{
  "nbformat": 4,
  "nbformat_minor": 0,
  "metadata": {
    "colab": {
      "provenance": [],
      "authorship_tag": "ABX9TyN/V2IFrzUN/wb1dbYmGMrs",
      "include_colab_link": true
    },
    "kernelspec": {
      "name": "python3",
      "display_name": "Python 3"
    },
    "language_info": {
      "name": "python"
    }
  },
  "cells": [
    {
      "cell_type": "markdown",
      "metadata": {
        "id": "view-in-github",
        "colab_type": "text"
      },
      "source": [
        "<a href=\"https://colab.research.google.com/github/Yashomoulik/HandsOn-5/blob/main/HandsOn5.ipynb\" target=\"_parent\"><img src=\"https://colab.research.google.com/assets/colab-badge.svg\" alt=\"Open In Colab\"/></a>"
      ]
    },
    {
      "cell_type": "markdown",
      "source": [
        "Q1. Implement a min heap data structure. For the parent and left/right functions use bit manipulation operators. In addition your heap should have the following functionality\n",
        "\n",
        "The ability to initially build the heap (build_min_heap)\n",
        "The ability to heapify\n",
        "The ability to get and remove (\"pop\") the root node from the heap (and of course re-heapify everything)\n",
        "The heap should be generic to the type of data (can store floats, int, custom datastructure)\n",
        "Show example(s) of your heap working. Please demonstrate ALL the functionality you implemented.\n",
        "Upload your source code to github along with your example(s)."
      ],
      "metadata": {
        "id": "OjJq8Bt-yS9P"
      }
    },
    {
      "cell_type": "code",
      "execution_count": 1,
      "metadata": {
        "colab": {
          "base_uri": "https://localhost:8080/"
        },
        "id": "0YXDdBuzxWlY",
        "outputId": "2c041607-ddb6-427b-a54d-8fac1dd3891d"
      },
      "outputs": [
        {
          "output_type": "stream",
          "name": "stdout",
          "text": [
            "Heap after building:\n",
            "[4, 5, 6, 9, 8, 10, 30]\n",
            "\n",
            "Heap after inserting elements:\n",
            "[2, 3.5, 6, 4, 8, 10, 30, 9, 5]\n",
            "\n",
            "Popped root: 2\n",
            "[3.5, 4, 6, 5, 8, 10, 30, 9]\n",
            "\n",
            "Popped root: 3.5\n",
            "[4, 5, 6, 9, 8, 10, 30]\n"
          ]
        }
      ],
      "source": [
        "class Min_Heap:\n",
        "    def _init_(self):\n",
        "        self.heap = []\n",
        "\n",
        "    # For the parent and left/right functions use bit manipulation operators.\n",
        "    def parent(self, index):\n",
        "        return (index - 1) >> 1  # equivalent to (index - 1) // 2\n",
        "\n",
        "    def left_child(self, index):\n",
        "        return (index << 1) + 1  # equivalent to (index * 2) + 1\n",
        "\n",
        "    def right_child(self, index):\n",
        "        return (index << 1) + 2  # equivalent to (index * 2) + 2\n",
        "\n",
        "    # The ability to initially build the heap (build_min_heap)\n",
        "    def build_min_heap(self, array):\n",
        "        self.heap = array\n",
        "        n = len(array)\n",
        "        # The ability to heapify\n",
        "        for i in range(self.parent(n - 1), -1, -1):\n",
        "            self.heapify_down(i)\n",
        "\n",
        "    # Heapify down for maintaining min heap property\n",
        "    def heapify_down(self, index):\n",
        "        smallest = index\n",
        "        left = self.left_child(index)\n",
        "        right = self.right_child(index)\n",
        "        n = len(self.heap)\n",
        "\n",
        "        if left < n and self.heap[left] < self.heap[smallest]:\n",
        "            smallest = left\n",
        "        if right < n and self.heap[right] < self.heap[smallest]:\n",
        "            smallest = right\n",
        "\n",
        "        # If the smallest is not the current index, swap and continue heapifying\n",
        "        if smallest != index:\n",
        "            self.swap(index, smallest)\n",
        "            self.heapify_down(smallest)\n",
        "\n",
        "    # Heapify up for insertion of new elements\n",
        "    def heapify_up(self, index):\n",
        "        while index > 0 and self.heap[self.parent(index)] > self.heap[index]:\n",
        "            self.swap(self.parent(index), index)\n",
        "            index = self.parent(index)\n",
        "\n",
        "    # Insert element to the heap\n",
        "    def insert(self, element):\n",
        "        self.heap.append(element)\n",
        "        self.heapify_up(len(self.heap) - 1)\n",
        "\n",
        "    # The ability to get and remove (\"pop\") the root node from the heap (and of course re-heapify everything)\n",
        "    def pop(self):\n",
        "        if len(self.heap) == 0:\n",
        "            return None\n",
        "        root = self.heap[0]\n",
        "        last_element = self.heap.pop()\n",
        "        if len(self.heap) > 0:\n",
        "            self.heap[0] = last_element\n",
        "            self.heapify_down(0)\n",
        "        return root\n",
        "\n",
        "    def swap(self, i, j):\n",
        "        self.heap[i], self.heap[j] = self.heap[j], self.heap[i]\n",
        "\n",
        "    def get_min(self):\n",
        "        return self.heap[0] if self.heap else None\n",
        "\n",
        "    def print_heap(self):\n",
        "        print(self.heap)\n",
        "\n",
        "# Show example(s) of your heap working. Please demonstrate ALL the functionality you implemented.\n",
        "\n",
        "# The ability to initially build the heap (build_min_heap)\n",
        "heap = Min_Heap()\n",
        "heap.build_min_heap([5, 8, 10, 9, 4, 6, 30])\n",
        "\n",
        "# print heap after building\n",
        "print(\"Heap after building:\")\n",
        "heap.print_heap()\n",
        "\n",
        "# inserting new elements\n",
        "heap.insert(2)   # using int datatype\n",
        "heap.insert(3.5) #using a float datatype\n",
        "\n",
        "print(\"\\nHeap after inserting elements:\")\n",
        "heap.print_heap()\n",
        "\n",
        "# The ability to get and remove (\"pop\") the root node from the heap (and of course re-heapify everything)\n",
        "popped = heap.pop()\n",
        "print(f\"\\nPopped root: {popped}\")\n",
        "heap.print_heap()\n",
        "\n",
        "# Pop again\n",
        "popped = heap.pop()\n",
        "print(f\"\\nPopped root: {popped}\")\n",
        "heap.print_heap()"
      ]
    }
  ]
}